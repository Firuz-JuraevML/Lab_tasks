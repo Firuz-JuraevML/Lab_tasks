{
 "cells": [
  {
   "cell_type": "markdown",
   "metadata": {},
   "source": [
    "## Chart Events Table (Neonates data)"
   ]
  },
  {
   "cell_type": "code",
   "execution_count": 1,
   "metadata": {},
   "outputs": [],
   "source": [
    "import pandas as pd"
   ]
  },
  {
   "cell_type": "code",
   "execution_count": null,
   "metadata": {},
   "outputs": [],
   "source": [
    "#charts = pd.read_csv('CHARTEVENTS.csv')"
   ]
  },
  {
   "cell_type": "code",
   "execution_count": 5,
   "metadata": {},
   "outputs": [],
   "source": [
    "neonates_ids = pd.read_csv(\"neonates_ids.csv\")"
   ]
  },
  {
   "cell_type": "code",
   "execution_count": 9,
   "metadata": {},
   "outputs": [
    {
     "name": "stdout",
     "output_type": "stream",
     "text": [
      "charts/neonates_chart_1.csv\n",
      "charts/neonates_chart_2.csv\n",
      "charts/neonates_chart_3.csv\n"
     ]
    },
    {
     "name": "stderr",
     "output_type": "stream",
     "text": [
      "C:\\Users\\Firuz\\anaconda3\\lib\\site-packages\\IPython\\core\\interactiveshell.py:3071: DtypeWarning: Columns (8,13,14) have mixed types.Specify dtype option on import or set low_memory=False.\n",
      "  has_raised = await self.run_ast_nodes(code_ast.body, cell_name,\n"
     ]
    },
    {
     "name": "stdout",
     "output_type": "stream",
     "text": [
      "charts/neonates_chart_4.csv\n",
      "charts/neonates_chart_5.csv\n",
      "charts/neonates_chart_6.csv\n",
      "charts/neonates_chart_7.csv\n",
      "charts/neonates_chart_8.csv\n",
      "charts/neonates_chart_9.csv\n",
      "charts/neonates_chart_10.csv\n",
      "charts/neonates_chart_11.csv\n",
      "charts/neonates_chart_12.csv\n",
      "charts/neonates_chart_13.csv\n",
      "charts/neonates_chart_14.csv\n",
      "charts/neonates_chart_15.csv\n",
      "charts/neonates_chart_16.csv\n",
      "charts/neonates_chart_17.csv\n",
      "charts/neonates_chart_18.csv\n",
      "charts/neonates_chart_19.csv\n"
     ]
    },
    {
     "name": "stderr",
     "output_type": "stream",
     "text": [
      "C:\\Users\\Firuz\\anaconda3\\lib\\site-packages\\IPython\\core\\interactiveshell.py:3071: DtypeWarning: Columns (13) have mixed types.Specify dtype option on import or set low_memory=False.\n",
      "  has_raised = await self.run_ast_nodes(code_ast.body, cell_name,\n"
     ]
    },
    {
     "name": "stdout",
     "output_type": "stream",
     "text": [
      "charts/neonates_chart_20.csv\n",
      "charts/neonates_chart_21.csv\n",
      "charts/neonates_chart_22.csv\n",
      "charts/neonates_chart_23.csv\n",
      "charts/neonates_chart_24.csv\n",
      "charts/neonates_chart_25.csv\n"
     ]
    },
    {
     "name": "stderr",
     "output_type": "stream",
     "text": [
      "C:\\Users\\Firuz\\anaconda3\\lib\\site-packages\\IPython\\core\\interactiveshell.py:3071: DtypeWarning: Columns (8,10,14) have mixed types.Specify dtype option on import or set low_memory=False.\n",
      "  has_raised = await self.run_ast_nodes(code_ast.body, cell_name,\n"
     ]
    },
    {
     "name": "stdout",
     "output_type": "stream",
     "text": [
      "charts/neonates_chart_26.csv\n"
     ]
    },
    {
     "name": "stderr",
     "output_type": "stream",
     "text": [
      "C:\\Users\\Firuz\\anaconda3\\lib\\site-packages\\IPython\\core\\interactiveshell.py:3071: DtypeWarning: Columns (8) have mixed types.Specify dtype option on import or set low_memory=False.\n",
      "  has_raised = await self.run_ast_nodes(code_ast.body, cell_name,\n"
     ]
    },
    {
     "name": "stdout",
     "output_type": "stream",
     "text": [
      "charts/neonates_chart_27.csv\n",
      "charts/neonates_chart_28.csv\n",
      "charts/neonates_chart_29.csv\n",
      "charts/neonates_chart_30.csv\n",
      "charts/neonates_chart_31.csv\n",
      "charts/neonates_chart_32.csv\n",
      "charts/neonates_chart_33.csv\n",
      "charts/neonates_chart_34.csv\n"
     ]
    }
   ],
   "source": [
    "chunksize = 10 ** 7\n",
    "counter = 1 \n",
    "for chunk in pd.read_csv('CHARTEVENTS.csv', chunksize=chunksize):\n",
    "    chunk.rename(columns={\"SUBJECT_ID\": \"subject_id\"}, inplace = True)\n",
    "    neonates_charts = pd.merge(chunk, neonates_ids , on='subject_id', how='inner')\n",
    "    file_name = \"charts/neonates_chart_\" + str(counter) + \".csv\"\n",
    "    neonates_charts.to_csv(file_name) \n",
    "    print(file_name)\n",
    "    counter = counter + 1"
   ]
  },
  {
   "cell_type": "code",
   "execution_count": null,
   "metadata": {},
   "outputs": [],
   "source": [
    "charts.rename(columns={\"SUBJECT_ID\": \"subject_id\"}, inplace = True)\n",
    "df.columns"
   ]
  },
  {
   "cell_type": "code",
   "execution_count": 10,
   "metadata": {},
   "outputs": [],
   "source": [
    "import pandas as pd\n",
    "import glob\n",
    "from os import listdir"
   ]
  },
  {
   "cell_type": "code",
   "execution_count": 16,
   "metadata": {},
   "outputs": [],
   "source": [
    "def list_files():\n",
    "    files = []\n",
    "    counter = 0\n",
    "    for f in listdir(\"./charts/\"):\n",
    "        if f.endswith('.' + \"csv\"):\n",
    "            files.append(f)\n",
    "            counter = counter + 1\n",
    "    print (\"CSV Files: \" + str(counter))\n",
    "    return files"
   ]
  },
  {
   "cell_type": "code",
   "execution_count": 17,
   "metadata": {},
   "outputs": [
    {
     "name": "stdout",
     "output_type": "stream",
     "text": [
      "CSV Files: 34\n"
     ]
    },
    {
     "name": "stderr",
     "output_type": "stream",
     "text": [
      "C:\\Users\\Firuz\\anaconda3\\lib\\site-packages\\IPython\\core\\interactiveshell.py:3071: DtypeWarning: Columns (14) have mixed types.Specify dtype option on import or set low_memory=False.\n",
      "  has_raised = await self.run_ast_nodes(code_ast.body, cell_name,\n"
     ]
    }
   ],
   "source": [
    "li = []\n",
    "\n",
    "all_files = list_files()\n",
    "\n",
    "for filename in all_files:\n",
    "    filepath = \"./charts/\" + filename\n",
    "    df = pd.read_csv( filepath, index_col=None, header=0)\n",
    "    li.append(df)\n",
    "\n",
    "frame = pd.concat(li, axis=0, ignore_index=True)\n",
    "\n",
    "frame.to_csv(\"./charts/neonates_charts.csv\")"
   ]
  },
  {
   "cell_type": "code",
   "execution_count": null,
   "metadata": {},
   "outputs": [],
   "source": []
  }
 ],
 "metadata": {
  "kernelspec": {
   "display_name": "Python 3",
   "language": "python",
   "name": "python3"
  },
  "language_info": {
   "codemirror_mode": {
    "name": "ipython",
    "version": 3
   },
   "file_extension": ".py",
   "mimetype": "text/x-python",
   "name": "python",
   "nbconvert_exporter": "python",
   "pygments_lexer": "ipython3",
   "version": "3.8.3"
  }
 },
 "nbformat": 4,
 "nbformat_minor": 4
}
